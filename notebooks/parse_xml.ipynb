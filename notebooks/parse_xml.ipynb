{
 "cells": [
  {
   "cell_type": "code",
   "execution_count": 1,
   "metadata": {},
   "outputs": [],
   "source": [
    "from xml.dom.minidom import parse, parseString, Element"
   ]
  },
  {
   "cell_type": "code",
   "execution_count": 2,
   "metadata": {},
   "outputs": [],
   "source": [
    "doml = parse(\"test.xml\")"
   ]
  },
  {
   "cell_type": "code",
   "execution_count": 3,
   "metadata": {},
   "outputs": [],
   "source": [
    "def get_text(node):\n",
    "    ret = []\n",
    "    for d in node.childNodes:\n",
    "        if d.nodeType == d.TEXT_NODE:\n",
    "            ret.append(d.data)\n",
    "    return \"\".join(ret)"
   ]
  },
  {
   "cell_type": "code",
   "execution_count": 4,
   "metadata": {},
   "outputs": [
    {
     "name": "stdout",
     "output_type": "stream",
     "text": [
      "<class 'xml.dom.minidom.Element'>\n",
      "[神楽坂 まひろ] 转生王女与天才千金的魔法革命 / Tensei Oujo to Tensai Reijou - 08 (B-Global 1920x1080 HEVC AAC MKV)\n",
      "https://acg.rip/t/273944\n",
      "https://acg.rip/t/273944.torrent\n",
      "<class 'xml.dom.minidom.Element'>\n",
      "[北宇治字幕组][转生王女与天才千金的魔法革命] [07][HEVC_AAC][CHS][MKV]\n",
      "https://acg.rip/t/273776\n",
      "https://acg.rip/t/273776.torrent\n",
      "<class 'xml.dom.minidom.Element'>\n",
      "[北宇治字幕组][转生王女与天才千金的魔法革命] [07][HEVC_AAC][CHS][MP4]\n",
      "https://acg.rip/t/273775\n",
      "https://acg.rip/t/273775.torrent\n",
      "<class 'xml.dom.minidom.Element'>\n",
      "[桜都字幕组] 转生王女与天才千金的魔法革命 / Tensei Oujo to Tensai Reijou no Mahou Kakumei [07][1080p][简体内嵌]\n",
      "https://acg.rip/t/273631\n",
      "https://acg.rip/t/273631.torrent\n",
      "<class 'xml.dom.minidom.Element'>\n",
      "[桜都字幕组] 转生王女与天才千金的魔法革命 / Tensei Oujo to Tensai Reijou no Mahou Kakumei [07][1080p][简繁内封]\n",
      "https://acg.rip/t/273629\n",
      "https://acg.rip/t/273629.torrent\n"
     ]
    }
   ],
   "source": [
    "for i, item in enumerate(doml.getElementsByTagName(\"item\")):\n",
    "    print(type(item))\n",
    "    print(get_text(item.getElementsByTagName(\"title\")[0]))\n",
    "    print(get_text(item.getElementsByTagName(\"guid\")[0]))\n",
    "    torrent:Element = item.getElementsByTagName(\"enclosure\")[0]\n",
    "    print(torrent.attributes[\"url\"].value)\n",
    "    if i > 3:\n",
    "        break"
   ]
  }
 ],
 "metadata": {
  "kernelspec": {
   "display_name": "trans-rss",
   "language": "python",
   "name": "python3"
  },
  "language_info": {
   "codemirror_mode": {
    "name": "ipython",
    "version": 3
   },
   "file_extension": ".py",
   "mimetype": "text/x-python",
   "name": "python",
   "nbconvert_exporter": "python",
   "pygments_lexer": "ipython3",
   "version": "3.10.9"
  },
  "orig_nbformat": 4,
  "vscode": {
   "interpreter": {
    "hash": "b62b34e99cd3958ce2a0b3b07974d4916a94a84ca4d0ae3698a4106c02fcb10a"
   }
  }
 },
 "nbformat": 4,
 "nbformat_minor": 2
}
