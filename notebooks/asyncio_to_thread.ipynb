{
 "cells": [
  {
   "cell_type": "code",
   "execution_count": 1,
   "metadata": {},
   "outputs": [],
   "source": [
    "import asyncio\n",
    "from queue import Queue\n",
    "from concurrent.futures import ThreadPoolExecutor\n",
    "import time"
   ]
  },
  {
   "cell_type": "code",
   "execution_count": 2,
   "metadata": {},
   "outputs": [],
   "source": [
    "def blocking_io(q: Queue):\n",
    "    for i in range(10):\n",
    "        q.put(i)\n",
    "        time.sleep(.1)\n",
    "    q.put(None)"
   ]
  },
  {
   "cell_type": "code",
   "execution_count": 3,
   "metadata": {},
   "outputs": [],
   "source": [
    "async def read_msg(q: Queue):\n",
    "    loop = asyncio.get_running_loop()\n",
    "    with ThreadPoolExecutor() as pool:\n",
    "        while True:\n",
    "            result = await loop.run_in_executor(pool, q.get)\n",
    "            if result is not None:\n",
    "                print(result)\n",
    "            else:\n",
    "                return"
   ]
  },
  {
   "cell_type": "code",
   "execution_count": 4,
   "metadata": {},
   "outputs": [
    {
     "name": "stdout",
     "output_type": "stream",
     "text": [
      "0\n",
      "1\n",
      "2\n",
      "3\n",
      "4\n",
      "5\n",
      "6\n",
      "7\n",
      "8\n",
      "9\n"
     ]
    }
   ],
   "source": [
    "q = Queue()\n",
    "task1 = asyncio.create_task(asyncio.to_thread(blocking_io, q))\n",
    "task2 = asyncio.create_task(read_msg(q))\n",
    "\n",
    "await task1\n",
    "await task2"
   ]
  },
  {
   "cell_type": "code",
   "execution_count": 6,
   "metadata": {},
   "outputs": [
    {
     "ename": "ValueError",
     "evalue": "123",
     "output_type": "error",
     "traceback": [
      "\u001b[1;31m---------------------------------------------------------------------------\u001b[0m",
      "\u001b[1;31mValueError\u001b[0m                                Traceback (most recent call last)",
      "Cell \u001b[1;32mIn[6], line 4\u001b[0m\n\u001b[0;32m      1\u001b[0m \u001b[39mdef\u001b[39;00m \u001b[39mraise_error\u001b[39m():\n\u001b[0;32m      2\u001b[0m     \u001b[39mraise\u001b[39;00m \u001b[39mValueError\u001b[39;00m(\u001b[39m\"\u001b[39m\u001b[39m123\u001b[39m\u001b[39m\"\u001b[39m)\n\u001b[1;32m----> 4\u001b[0m \u001b[39mawait\u001b[39;00m asyncio\u001b[39m.\u001b[39mto_thread(raise_error)\n",
      "File \u001b[1;32mc:\\Users\\liyih\\miniconda3\\envs\\trans-rss\\lib\\asyncio\\threads.py:25\u001b[0m, in \u001b[0;36mto_thread\u001b[1;34m(func, *args, **kwargs)\u001b[0m\n\u001b[0;32m     23\u001b[0m ctx \u001b[39m=\u001b[39m contextvars\u001b[39m.\u001b[39mcopy_context()\n\u001b[0;32m     24\u001b[0m func_call \u001b[39m=\u001b[39m functools\u001b[39m.\u001b[39mpartial(ctx\u001b[39m.\u001b[39mrun, func, \u001b[39m*\u001b[39margs, \u001b[39m*\u001b[39m\u001b[39m*\u001b[39mkwargs)\n\u001b[1;32m---> 25\u001b[0m \u001b[39mreturn\u001b[39;00m \u001b[39mawait\u001b[39;00m loop\u001b[39m.\u001b[39mrun_in_executor(\u001b[39mNone\u001b[39;00m, func_call)\n",
      "File \u001b[1;32mc:\\Users\\liyih\\miniconda3\\envs\\trans-rss\\lib\\concurrent\\futures\\thread.py:58\u001b[0m, in \u001b[0;36m_WorkItem.run\u001b[1;34m(self)\u001b[0m\n\u001b[0;32m     55\u001b[0m     \u001b[39mreturn\u001b[39;00m\n\u001b[0;32m     57\u001b[0m \u001b[39mtry\u001b[39;00m:\n\u001b[1;32m---> 58\u001b[0m     result \u001b[39m=\u001b[39m \u001b[39mself\u001b[39m\u001b[39m.\u001b[39mfn(\u001b[39m*\u001b[39m\u001b[39mself\u001b[39m\u001b[39m.\u001b[39margs, \u001b[39m*\u001b[39m\u001b[39m*\u001b[39m\u001b[39mself\u001b[39m\u001b[39m.\u001b[39mkwargs)\n\u001b[0;32m     59\u001b[0m \u001b[39mexcept\u001b[39;00m \u001b[39mBaseException\u001b[39;00m \u001b[39mas\u001b[39;00m exc:\n\u001b[0;32m     60\u001b[0m     \u001b[39mself\u001b[39m\u001b[39m.\u001b[39mfuture\u001b[39m.\u001b[39mset_exception(exc)\n",
      "Cell \u001b[1;32mIn[6], line 2\u001b[0m, in \u001b[0;36mraise_error\u001b[1;34m()\u001b[0m\n\u001b[0;32m      1\u001b[0m \u001b[39mdef\u001b[39;00m \u001b[39mraise_error\u001b[39m():\n\u001b[1;32m----> 2\u001b[0m     \u001b[39mraise\u001b[39;00m \u001b[39mValueError\u001b[39;00m(\u001b[39m\"\u001b[39m\u001b[39m123\u001b[39m\u001b[39m\"\u001b[39m)\n",
      "\u001b[1;31mValueError\u001b[0m: 123"
     ]
    }
   ],
   "source": [
    "def raise_error():\n",
    "    raise ValueError(\"123\")\n",
    "\n",
    "await asyncio.to_thread(raise_error)"
   ]
  }
 ],
 "metadata": {
  "kernelspec": {
   "display_name": "trans-rss",
   "language": "python",
   "name": "python3"
  },
  "language_info": {
   "codemirror_mode": {
    "name": "ipython",
    "version": 3
   },
   "file_extension": ".py",
   "mimetype": "text/x-python",
   "name": "python",
   "nbconvert_exporter": "python",
   "pygments_lexer": "ipython3",
   "version": "3.10.9"
  },
  "orig_nbformat": 4
 },
 "nbformat": 4,
 "nbformat_minor": 2
}
