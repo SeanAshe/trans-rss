{
 "cells": [
  {
   "cell_type": "code",
   "execution_count": 1,
   "metadata": {},
   "outputs": [],
   "source": [
    "from xml.dom.minidom import parse, parseString, Element"
   ]
  },
  {
   "cell_type": "code",
   "execution_count": 2,
   "metadata": {},
   "outputs": [],
   "source": [
    "doml = parse(\"test.xml\")"
   ]
  },
  {
   "cell_type": "code",
   "execution_count": 3,
   "metadata": {},
   "outputs": [
    {
     "name": "stdout",
     "output_type": "stream",
     "text": [
      "<item>\n",
      "      <title>[北宇治字幕组][转生王女与天才千金的魔法革命] [07][HEVC_AAC][CHS][MKV]</title>\n",
      "      <description>&lt;img src=&quot;https://p.inari.site/mistakey/%E8%BD%AC%E7%94%9F%E7%8E%8B%E5%A5%B3STAFF07.png&quot; alt=&quot;&quot; /&gt;&lt;br /&gt;\n",
      "[h3]本话制作[/h3]&lt;br /&gt;\n",
      "职务  人员&lt;br /&gt;\n",
      "  &lt;br /&gt;\n",
      "翻译：  風林火山 羽希怜&lt;br /&gt;\n",
      "时轴：  小企业 落幕星辰&lt;br /&gt;\n",
      "校对：  全是敏感词...</description>\n",
      "      <pubDate>Sun, 19 Feb 2023 03:34:44 -0800</pubDate>\n",
      "      <link>https://acg.rip/t/273776</link>\n",
      "      <guid>https://acg.rip/t/273776</guid>\n",
      "      <enclosure url=\"https://acg.rip/t/273776.torrent\" type=\"application/x-bittorrent\"/>\n",
      "    </item>\n"
     ]
    }
   ],
   "source": [
    "item = doml.getElementsByTagName(\"item\")[1]\n",
    "print(item.toxml())"
   ]
  },
  {
   "cell_type": "code",
   "execution_count": 4,
   "metadata": {},
   "outputs": [
    {
     "name": "stdout",
     "output_type": "stream",
     "text": [
      "<item>\n",
      "      <title>[北宇治字幕组][转生王女与天才千金的魔法革命] [07][HEVC_AAC][CHS][MKV]</title>\n",
      "      <description>&lt;img src=&quot;https://p.inari.site/mistakey/%E8%BD%AC%E7%94%9F%E7%8E%8B%E5%A5%B3STAFF07.png&quot; alt=&quot;&quot; /&gt;&lt;br /&gt;\n",
      "[h3]本话制作[/h3]&lt;br /&gt;\n",
      "职务  人员&lt;br /&gt;\n",
      "  &lt;br /&gt;\n",
      "翻译：  風林火山 羽希怜&lt;br /&gt;\n",
      "时轴：  小企业 落幕星辰&lt;br /&gt;\n",
      "校对：  全是敏感词...</description>\n",
      "      <pubDate>Sun, 19 Feb 2023 03:34:44 -0800</pubDate>\n",
      "      <link>https://acg.rip/t/273776</link>\n",
      "      <guid>https://acg.rip/t/273776</guid>\n",
      "      <enclosure url=\"https://acg.rip/t/273776.torrent\" type=\"application/x-bittorrent\"/>\n",
      "    </item>\n",
      "\n",
      "\n",
      "[('node', 'title'), ('text', None)]\n",
      "[北宇治字幕组][转生王女与天才千金的魔法革命] [07][HEVC_AAC][CHS][MKV]\n",
      "\n",
      "[('node', 'description'), ('text', None)]\n",
      "&lt;img src=&quot;https://p.inari.site/mistakey/%E8%BD%AC%E7%94%9F%E7%8E%8B%E5%A5%B3STAFF07.png&quot; alt=&quot;&quot; /&gt;&lt;br /&gt;\n",
      "[h3]本话制作[/h3]&lt;br /&gt;\n",
      "职务  人员&lt;br /&gt;\n",
      "  &lt;br /&gt;\n",
      "翻译：  風林火山 羽希怜&lt;br /&gt;\n",
      "时轴：  小企业 落幕星辰&lt;br /&gt;\n",
      "校对：  全是敏感词...\n",
      "\n",
      "[('node', 'pubDate'), ('text', None)]\n",
      "Sun, 19 Feb 2023 03:34:44 -0800\n",
      "\n",
      "[('node', 'link'), ('text', None)]\n",
      "https://acg.rip/t/273776\n",
      "\n",
      "[('node', 'guid'), ('text', None)]\n",
      "https://acg.rip/t/273776\n",
      "\n",
      "[('node', 'enclosure'), ('attr', 'url')]\n",
      "https://acg.rip/t/273776.torrent\n",
      "\n",
      "[('node', 'enclosure'), ('attr', 'type')]\n",
      "application/x-bittorrent\n",
      "\n"
     ]
    }
   ],
   "source": [
    "def iter(xml: Element, path: list=[]):\n",
    "    for key, value in xml.attributes.items():\n",
    "        p = path + [(\"attr\", key)]\n",
    "        print(p)\n",
    "        print(value)\n",
    "        print()\n",
    "    ret = []\n",
    "    for node in xml.childNodes:\n",
    "        if node.nodeType != node.TEXT_NODE:\n",
    "            iter(node, path + [(\"node\", node.tagName)])\n",
    "        ret.append(node.toxml())\n",
    "    ret = \"\".join(ret)\n",
    "    if path and ret:\n",
    "        p = path + [(\"text\", None)]\n",
    "        print(p)\n",
    "        print(ret)\n",
    "        print()\n",
    "\n",
    "print(item.toxml())\n",
    "print()\n",
    "print()\n",
    "iter(item)\n"
   ]
  },
  {
   "cell_type": "code",
   "execution_count": 5,
   "metadata": {},
   "outputs": [
    {
     "name": "stdout",
     "output_type": "stream",
     "text": [
      "title [北宇治字幕组][转生王女与天才千金的魔法革命] [07][HEVC_AAC][CHS][MKV]\n",
      "guid https://acg.rip/t/273776\n",
      "torrent https://acg.rip/t/273776.torrent\n"
     ]
    }
   ],
   "source": [
    "from typing import List, Tuple, Union\n",
    "\n",
    "\n",
    "paths = {\n",
    "    \"title\": [('node', 'title'), ('text', None)],\n",
    "    \"guid\": [('node', 'guid'), ('text', None)],\n",
    "    \"torrent\": [('node', 'enclosure'), ('attr', 'url')] }\n",
    "\n",
    "def visit(xml: Element, path: List[Tuple[str, Union[str, None]]], default=None):\n",
    "    p = path.pop()\n",
    "    match p:\n",
    "        case (\"node\", tag):\n",
    "            for node in xml.childNodes:\n",
    "                if node.nodeType != node.TEXT_NODE and node.tagName == tag:\n",
    "                    return visit(node, path.copy())\n",
    "            return default\n",
    "        case (\"attr\", key):\n",
    "            attr = xml.attributes.get(key, None)\n",
    "            return attr.value if attr else default\n",
    "        case (\"text\", None):\n",
    "            ret = []\n",
    "            for node in xml.childNodes:\n",
    "                if node.nodeType == node.TEXT_NODE:\n",
    "                    ret.append(node.data)\n",
    "            return \"\".join(ret).strip()\n",
    "\n",
    "for key, path in paths.items():\n",
    "    print(key, visit(item, list(reversed(path))))"
   ]
  },
  {
   "cell_type": "code",
   "execution_count": 6,
   "metadata": {},
   "outputs": [],
   "source": [
    "# test nyaa\n",
    "from xml.dom import expatbuilder\n",
    "item2 = \"\"\"<item>\n",
    "<title>\n",
    "異世界魔王と召喚少女の奴隷魔術 第01-20巻 [Isekai Maou to Shoukan Shoujo Dorei Majutsu vol 01-20]\n",
    "</title>\n",
    "<link>https://nyaa.si/download/1650004.torrent</link>\n",
    "<guid isPermaLink=\"true\">https://nyaa.si/view/1650004</guid>\n",
    "<pubDate>Sat, 18 Mar 2023 08:58:00 -0000</pubDate>\n",
    "<nyaa:seeders>3</nyaa:seeders>\n",
    "<nyaa:leechers>85</nyaa:leechers>\n",
    "<nyaa:downloads>0</nyaa:downloads>\n",
    "<nyaa:infoHash>167da229d7d0d8db58f396980b927edc2d3b7b72</nyaa:infoHash>\n",
    "<nyaa:categoryId>3_3</nyaa:categoryId>\n",
    "<nyaa:category>Literature - Raw</nyaa:category>\n",
    "<nyaa:size>2.2 GiB</nyaa:size>\n",
    "<nyaa:comments>0</nyaa:comments>\n",
    "<nyaa:trusted>No</nyaa:trusted>\n",
    "<nyaa:remake>No</nyaa:remake>\n",
    "<description>\n",
    "<a href=\"https://nyaa.si/view/1650004\">#1650004 | 異世界魔王と召喚少女の奴隷魔術 第01-20巻 [Isekai Maou to Shoukan Shoujo Dorei Majutsu vol 01-20]</a> | 2.2 GiB | Literature - Raw | 167DA229D7D0D8DB58F396980B927EDC2D3B7B72\n",
    "</description>\n",
    "</item>\"\"\"\n",
    "\n",
    "item2 = expatbuilder.parseString(item2, False).firstChild"
   ]
  },
  {
   "cell_type": "code",
   "execution_count": 7,
   "metadata": {},
   "outputs": [
    {
     "name": "stdout",
     "output_type": "stream",
     "text": [
      "[('node', 'title'), ('text', None)]\n",
      "\n",
      "異世界魔王と召喚少女の奴隷魔術 第01-20巻 [Isekai Maou to Shoukan Shoujo Dorei Majutsu vol 01-20]\n",
      "\n",
      "\n",
      "[('node', 'link'), ('text', None)]\n",
      "https://nyaa.si/download/1650004.torrent\n",
      "\n",
      "[('node', 'guid'), ('attr', 'isPermaLink')]\n",
      "true\n",
      "\n",
      "[('node', 'guid'), ('text', None)]\n",
      "https://nyaa.si/view/1650004\n",
      "\n",
      "[('node', 'pubDate'), ('text', None)]\n",
      "Sat, 18 Mar 2023 08:58:00 -0000\n",
      "\n",
      "[('node', 'nyaa:seeders'), ('text', None)]\n",
      "3\n",
      "\n",
      "[('node', 'nyaa:leechers'), ('text', None)]\n",
      "85\n",
      "\n",
      "[('node', 'nyaa:downloads'), ('text', None)]\n",
      "0\n",
      "\n",
      "[('node', 'nyaa:infoHash'), ('text', None)]\n",
      "167da229d7d0d8db58f396980b927edc2d3b7b72\n",
      "\n",
      "[('node', 'nyaa:categoryId'), ('text', None)]\n",
      "3_3\n",
      "\n",
      "[('node', 'nyaa:category'), ('text', None)]\n",
      "Literature - Raw\n",
      "\n",
      "[('node', 'nyaa:size'), ('text', None)]\n",
      "2.2 GiB\n",
      "\n",
      "[('node', 'nyaa:comments'), ('text', None)]\n",
      "0\n",
      "\n",
      "[('node', 'nyaa:trusted'), ('text', None)]\n",
      "No\n",
      "\n",
      "[('node', 'nyaa:remake'), ('text', None)]\n",
      "No\n",
      "\n",
      "[('node', 'description'), ('node', 'a'), ('attr', 'href')]\n",
      "https://nyaa.si/view/1650004\n",
      "\n",
      "[('node', 'description'), ('node', 'a'), ('text', None)]\n",
      "#1650004 | 異世界魔王と召喚少女の奴隷魔術 第01-20巻 [Isekai Maou to Shoukan Shoujo Dorei Majutsu vol 01-20]\n",
      "\n",
      "[('node', 'description'), ('text', None)]\n",
      "\n",
      "<a href=\"https://nyaa.si/view/1650004\">#1650004 | 異世界魔王と召喚少女の奴隷魔術 第01-20巻 [Isekai Maou to Shoukan Shoujo Dorei Majutsu vol 01-20]</a> | 2.2 GiB | Literature - Raw | 167DA229D7D0D8DB58F396980B927EDC2D3B7B72\n",
      "\n",
      "\n"
     ]
    }
   ],
   "source": [
    "iter(item2)"
   ]
  },
  {
   "cell_type": "code",
   "execution_count": 8,
   "metadata": {},
   "outputs": [
    {
     "name": "stdout",
     "output_type": "stream",
     "text": [
      "title 異世界魔王と召喚少女の奴隷魔術 第01-20巻 [Isekai Maou to Shoukan Shoujo Dorei Majutsu vol 01-20]\n",
      "guid https://nyaa.si/view/1650004\n",
      "torrent https://nyaa.si/download/1650004.torrent\n"
     ]
    }
   ],
   "source": [
    "paths = {\n",
    "    \"title\": [('node', 'title'), ('text', None)],\n",
    "    \"guid\": [('node', 'guid'), ('text', None)],\n",
    "    \"torrent\": [('node', 'link'), ('text', None)]}\n",
    "for key, path in paths.items():\n",
    "    print(key, visit(item2, list(reversed(path))))"
   ]
  }
 ],
 "metadata": {
  "kernelspec": {
   "display_name": "trans-rss",
   "language": "python",
   "name": "python3"
  },
  "language_info": {
   "codemirror_mode": {
    "name": "ipython",
    "version": 3
   },
   "file_extension": ".py",
   "mimetype": "text/x-python",
   "name": "python",
   "nbconvert_exporter": "python",
   "pygments_lexer": "ipython3",
   "version": "3.10.9"
  },
  "orig_nbformat": 4
 },
 "nbformat": 4,
 "nbformat_minor": 2
}
